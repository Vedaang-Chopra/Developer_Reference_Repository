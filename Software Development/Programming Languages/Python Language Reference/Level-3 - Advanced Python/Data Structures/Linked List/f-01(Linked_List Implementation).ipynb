{
 "cells": [
  {
   "cell_type": "code",
   "execution_count": 1,
   "metadata": {},
   "outputs": [],
   "source": [
    "#  Python Linked List Implementation ..............................."
   ]
  },
  {
   "cell_type": "markdown",
   "metadata": {},
   "source": [
    "#### Creating a Node Class"
   ]
  },
  {
   "cell_type": "code",
   "execution_count": 2,
   "metadata": {},
   "outputs": [],
   "source": [
    "# Creation of Node Class; Objects to be used as Nodes of Linked List\n",
    "class Linked_List_Node:\n",
    "    def __init__(self,data,next) -> None:\n",
    "        self.data=data\n",
    "        self.next=next "
   ]
  },
  {
   "cell_type": "markdown",
   "metadata": {},
   "source": [
    "#### Creating a Basic Linked List"
   ]
  },
  {
   "cell_type": "code",
   "execution_count": 3,
   "metadata": {},
   "outputs": [],
   "source": [
    "#  Reference to First Node, is called Head and needs to be kept in memory.\n",
    "#  Reference to Last Node, is called Tail.\n",
    "\n",
    "a=Linked_List_Node(13,None) # Intially set the Reference to next node as None\n",
    "b=Linked_List_Node(15,None)\n",
    "a.next=b        # Basic Linked List of 2 nodes; Creating the link"
   ]
  },
  {
   "cell_type": "code",
   "execution_count": 4,
   "metadata": {},
   "outputs": [
    {
     "name": "stdout",
     "output_type": "stream",
     "text": [
      "13\n",
      "15 15\n",
      "\n",
      "<__main__.Linked_List_Node object at 0x00000232A5211ED0>\n",
      "<__main__.Linked_List_Node object at 0x00000232A53D7D50>\n",
      "<class '__main__.Linked_List_Node'> <class '__main__.Linked_List_Node'>\n"
     ]
    }
   ],
   "source": [
    "print(a.data)\n",
    "print(b.data, a.next.data)  # Both are the same;\n",
    "print()\n",
    "print(a)\n",
    "print(b)\n",
    "# print(b.next.data)      # Returns error, as ther is no reference\n",
    "print(type(a),type(b))"
   ]
  },
  {
   "cell_type": "markdown",
   "metadata": {},
   "source": [
    "##### Space Seperated Input; to create Linked List"
   ]
  },
  {
   "cell_type": "code",
   "execution_count": 5,
   "metadata": {},
   "outputs": [
    {
     "data": {
      "text/plain": [
       "'\\n1. Create a function that takes a string as input. \\n2. The string will contain space separated integers. \\n3. -1 marks the end of the data for the linked list.\\n4. Returns an array of integers\\n5. Process all the integers of the array and create a linked list \\n'"
      ]
     },
     "execution_count": 5,
     "metadata": {},
     "output_type": "execute_result"
    }
   ],
   "source": [
    "'''\n",
    "1. Create a function that takes a string as input. \n",
    "2. The string will contain space separated integers. \n",
    "3. -1 marks the end of the data for the linked list.\n",
    "4. Returns an array of integers\n",
    "5. Process all the integers of the array and create a linked list \n",
    "'''\n",
    "\n",
    "# def space_separated_string_input(input_String:str):\n",
    "#     input_data=[int(i) for i in input_String.split(' ')]\n",
    "#     return input_data\n",
    "\n",
    "# input_string=input(\"Please enter space separated numbers for input to linked list: \").strip()\n",
    "# input_data=space_separated_string_input(input_string)\n"
   ]
  },
  {
   "cell_type": "code",
   "execution_count": 14,
   "metadata": {},
   "outputs": [],
   "source": [
    "class Linked_List(Linked_List_Node):\n",
    "    def __init__(self) -> None:\n",
    "        self.Head=None\n",
    "        # super().__init__(data, next)\n",
    "        self._length_of_linked_list=None\n",
    "    \n",
    "    # The function, sets the first node by setting the head pointer\n",
    "    def set_head(self,first_node:Linked_List_Node):\n",
    "        self.Head=first_node\n",
    "    \n",
    "    #  Attaches a new node to the last node\n",
    "    def set_next_node(self,current_node,new_node):\n",
    "        current_node.next=new_node\n",
    "        return new_node\n",
    "    \n",
    "    # Function That sets the length of the Linked List\n",
    "    def set_length_of_linked_list(self):\n",
    "        self._length_of_linked_list=self.identify_length_of_linked_list()\n",
    "    \n",
    "    def identify_length_of_linked_list(self):\n",
    "        count=0\n",
    "        current_list_pointer=self.Head\n",
    "        while current_list_pointer is not None:\n",
    "            count=count+1\n",
    "            current_list_pointer=current_list_pointer.next\n",
    "        return count\n",
    "    \n",
    "    def identify_last_node_in_linked_list(self):\n",
    "        current_reference_to_tail_of_linked_list=self.Head\n",
    "        while current_reference_to_tail_of_linked_list.next!=None:\n",
    "            current_reference_to_tail_of_linked_list=current_reference_to_tail_of_linked_list.next\n",
    "        return current_reference_to_tail_of_linked_list\n",
    "    \n",
    "    \n",
    "    \n",
    "    # Optimized Linked List Insertion Code, no need to identify last node again and again........\n",
    "    # Here for inserting N elements, we have Time Complexity of O(n), since for each node we have 0(1) complexity \n",
    "    def linked_list_creation(self,input_data):                    \n",
    "        # The point of the insertion function is to populate the head, and return or set the value.... \n",
    "        # Iterating over the array which holds data for the Linked List\n",
    "        print(\"Creating a Linked List and Inserting Data................\")\n",
    "        reference_to_tail_of_linked_list=None\n",
    "        for i in range(0,len(input_data)):\n",
    "            CURRENT_DATA=input_data[i]\n",
    "            print(\"Received Current Data:\", CURRENT_DATA)\n",
    "            #  If input received is -1, then insertion of linked list stops\n",
    "            if CURRENT_DATA==-1:\n",
    "                print(\"Received -1, hence breaking Linked List Insertion\")\n",
    "                break\n",
    "            else:\n",
    "                # Creating a node, with the data\n",
    "                new_node=Linked_List_Node(CURRENT_DATA,None)\n",
    "                print(\"Created Linked list node with data: \", new_node, new_node.data)\n",
    "                if self.Head==None:             # Check whether the list is empty (are we creating the first node)\n",
    "                    print(\"Empty Linked List, Hence populating Head Pointer Value......\")\n",
    "                    self.set_head(new_node)     # Assign Head, to first \n",
    "                    reference_to_tail_of_linked_list=self.Head\n",
    "                    print(\"After Insertion, Current Linked List Pointer Points to: \", reference_to_tail_of_linked_list, reference_to_tail_of_linked_list.data)\n",
    "                else:\n",
    "                    # Attaching other nodes, to previous node\n",
    "                    if reference_to_tail_of_linked_list==None:\n",
    "                        raise Exception(\"Error in Insertion logic, Please check. Linked List iterator wasn't assigned Head value\")\n",
    "                    else:\n",
    "                        if reference_to_tail_of_linked_list.next==None:\n",
    "                            reference_to_tail_of_linked_list=self.set_next_node(reference_to_tail_of_linked_list,new_node)\n",
    "                            print(\"After Insertion, Current Linked List Pointer Points to: \", reference_to_tail_of_linked_list, reference_to_tail_of_linked_list.data)\n",
    "                        else:\n",
    "                            print(\"Found Some Error in Linked List Insertion, Hence Identifying the Last node, and inserting new noe after it.\")\n",
    "                            reference_to_tail_of_linked_list=self.identify_last_node_in_linked_list()\n",
    "                            print(\"Identified Last node of Linked List is: \", reference_to_tail_of_linked_list, reference_to_tail_of_linked_list.data)\n",
    "                            reference_to_tail_of_linked_list=self.set_next_node(reference_to_tail_of_linked_list,new_node)\n",
    "                            print(\"After Insertion, Current Linked List Pointer Points to: \", reference_to_tail_of_linked_list, reference_to_tail_of_linked_list.data)\n",
    "            self.set_length_of_linked_list()\n",
    "            print()\n",
    "    \n",
    "    # Function that appends a new Node to the Tail of the Linked List\n",
    "    def append_a_new_node(self, node_data):\n",
    "        node=Linked_List_Node(node_data, None)\n",
    "        if self.Head==None:\n",
    "            self.set_head(node)\n",
    "        else:\n",
    "            tail=self.identify_last_node_in_linked_list()\n",
    "            tail=self.set_next_node(tail, node)\n",
    "        self.set_length_of_linked_list()\n",
    "        \n",
    "    # Function that adds a node to the Ith Position\n",
    "    def insert_node_at_ith_position(self, node_data, position):\n",
    "        print(\"Inserting node \", str(node_data), \" at position \", str(position))\n",
    "        if position > (self._length_of_linked_list) + 1 or position <=0:\n",
    "            print(\"Entered Position is way beyond the last element or first element of the Linked List\")\n",
    "            print(\"Positions range from 1 to \",str(self._length_of_linked_list+1) )\n",
    "        else:\n",
    "            if position ==1:\n",
    "                print(\"Inserting new node at the head of the Linked List\")\n",
    "                node=Linked_List_Node(node_data, None)\n",
    "                node.next= self.Head\n",
    "                self.set_head(node)\n",
    "            elif position == (self._length_of_linked_list) + 1 :\n",
    "                print(\"Inserting new node at the tail of the Linked List\")\n",
    "                self.append_a_new_node(node_data)\n",
    "            else:\n",
    "                print(\"Inserting new node at the ith position of the Linked List\")\n",
    "                node=Linked_List_Node(node_data, None)\n",
    "                previous_pointer =None\n",
    "                current_pointer =self.Head\n",
    "                current_position=1\n",
    "                while current_pointer is not None:\n",
    "                    if position == current_position:\n",
    "                        previous_pointer.next=node\n",
    "                        node.next= current_pointer\n",
    "                        break            \n",
    "                    else:\n",
    "                        previous_pointer = current_pointer\n",
    "                        current_pointer =current_pointer.next\n",
    "                        current_position =current_position +1\n",
    "                    # print(\"Current and Previous Pointer values:\", current_pointer.data, previous_pointer.data)\n",
    "        \n",
    "            self.set_length_of_linked_list()\n",
    "            print(\"New Node Inserted at position \"+ str(position) +\"th\")\n",
    "            print(\"New Linked List:\")\n",
    "            self.print_all_values_of_linked_list()\n",
    "    \n",
    "    def insert_at_ith_position_using_recursion(self, iterator, node_data, position):\n",
    "        \n",
    "        # Case when postion is beyond length of linked list\n",
    "        if iterator ==None or position<=0:\n",
    "            return None\n",
    "        \n",
    "        if position==1:\n",
    "            node=Linked_List_Node(node_data, None)\n",
    "            node.next=iterator\n",
    "            return node\n",
    "    \n",
    "        new_node=self.insert_at_ith_position_using_recursion(iterator.next, node_data, position-1)\n",
    "        iterator.next=new_node\n",
    "        \n",
    "        return iterator\n",
    "        \n",
    "    #  Function that prints all values of Linked List\n",
    "    def print_all_values_of_linked_list(self):\n",
    "        current_list_pointer=self.Head\n",
    "        while current_list_pointer is not None:\n",
    "            print(current_list_pointer.data, end=\"->\")\n",
    "            current_list_pointer=current_list_pointer.next\n",
    "        print(\"None\")\n",
    "    "
   ]
  },
  {
   "cell_type": "code",
   "execution_count": 15,
   "metadata": {},
   "outputs": [
    {
     "name": "stdout",
     "output_type": "stream",
     "text": [
      "Received Data: [1, 2, 3, 4, 5, 6, 7, 8, 9, -1]\n",
      "Creating a Linked List and Inserting Data................\n",
      "Received Current Data: 1\n",
      "Created Linked list node with data:  <__main__.Linked_List_Node object at 0x00000232A53EF050> 1\n",
      "Empty Linked List, Hence populating Head Pointer Value......\n",
      "After Insertion, Current Linked List Pointer Points to:  <__main__.Linked_List_Node object at 0x00000232A53EF050> 1\n",
      "\n",
      "Received Current Data: 2\n",
      "Created Linked list node with data:  <__main__.Linked_List_Node object at 0x00000232A53EEB10> 2\n",
      "After Insertion, Current Linked List Pointer Points to:  <__main__.Linked_List_Node object at 0x00000232A53EEB10> 2\n",
      "\n",
      "Received Current Data: 3\n",
      "Created Linked list node with data:  <__main__.Linked_List_Node object at 0x00000232A53ED8D0> 3\n",
      "After Insertion, Current Linked List Pointer Points to:  <__main__.Linked_List_Node object at 0x00000232A53ED8D0> 3\n",
      "\n",
      "Received Current Data: 4\n",
      "Created Linked list node with data:  <__main__.Linked_List_Node object at 0x00000232A53EEC10> 4\n",
      "After Insertion, Current Linked List Pointer Points to:  <__main__.Linked_List_Node object at 0x00000232A53EEC10> 4\n",
      "\n",
      "Received Current Data: 5\n",
      "Created Linked list node with data:  <__main__.Linked_List_Node object at 0x00000232A53EC150> 5\n",
      "After Insertion, Current Linked List Pointer Points to:  <__main__.Linked_List_Node object at 0x00000232A53EC150> 5\n",
      "\n",
      "Received Current Data: 6\n",
      "Created Linked list node with data:  <__main__.Linked_List_Node object at 0x00000232A53EDA50> 6\n",
      "After Insertion, Current Linked List Pointer Points to:  <__main__.Linked_List_Node object at 0x00000232A53EDA50> 6\n",
      "\n",
      "Received Current Data: 7\n",
      "Created Linked list node with data:  <__main__.Linked_List_Node object at 0x00000232A53EFF10> 7\n",
      "After Insertion, Current Linked List Pointer Points to:  <__main__.Linked_List_Node object at 0x00000232A53EFF10> 7\n",
      "\n",
      "Received Current Data: 8\n",
      "Created Linked list node with data:  <__main__.Linked_List_Node object at 0x00000232A53EC490> 8\n",
      "After Insertion, Current Linked List Pointer Points to:  <__main__.Linked_List_Node object at 0x00000232A53EC490> 8\n",
      "\n",
      "Received Current Data: 9\n",
      "Created Linked list node with data:  <__main__.Linked_List_Node object at 0x00000232A53EFA50> 9\n",
      "After Insertion, Current Linked List Pointer Points to:  <__main__.Linked_List_Node object at 0x00000232A53EFA50> 9\n",
      "\n",
      "Received Current Data: -1\n",
      "Received -1, hence breaking Linked List Insertion\n",
      "Current Linked list object(Initial Status): <__main__.Linked_List object at 0x00000232A53EEC50>\n"
     ]
    }
   ],
   "source": [
    "# Setting Default Value for testing\n",
    "input_data=[1,2,3,4,5,6,7,8,9,-1]\n",
    "print(\"Received Data:\", input_data)\n",
    "\n",
    "linked_list_obj=Linked_List()\n",
    "linked_list_obj.linked_list_creation(input_data)\n",
    "\n",
    "print(\"Current Linked list object(Initial Status): \", end='')\n",
    "print(linked_list_obj)\n"
   ]
  },
  {
   "cell_type": "code",
   "execution_count": 16,
   "metadata": {},
   "outputs": [
    {
     "name": "stdout",
     "output_type": "stream",
     "text": [
      "Final Status of data within the Linked List: 1->2->3->4->5->6->7->8->9->None\n"
     ]
    }
   ],
   "source": [
    "print(\"Final Status of data within the Linked List: \",end=\"\")\n",
    "linked_list_obj.print_all_values_of_linked_list()"
   ]
  },
  {
   "cell_type": "code",
   "execution_count": 17,
   "metadata": {},
   "outputs": [
    {
     "data": {
      "text/plain": [
       "9"
      ]
     },
     "execution_count": 17,
     "metadata": {},
     "output_type": "execute_result"
    }
   ],
   "source": [
    "linked_list_obj.identify_length_of_linked_list()"
   ]
  },
  {
   "cell_type": "code",
   "execution_count": 18,
   "metadata": {},
   "outputs": [
    {
     "name": "stdout",
     "output_type": "stream",
     "text": [
      "Inserting node  10  at position  3\n",
      "Inserting new node at the ith position of the Linked List\n",
      "New Node Inserted at position 3th\n",
      "New Linked List:\n",
      "1->2->10->3->4->5->6->7->8->9->None\n",
      "\n",
      "Inserting node  11  at position  6\n",
      "Inserting new node at the ith position of the Linked List\n",
      "New Node Inserted at position 6th\n",
      "New Linked List:\n",
      "1->2->10->3->4->11->5->6->7->8->9->None\n",
      "\n",
      "Inserting node  12  at position  0\n",
      "Entered Position is way beyond the last element or first element of the Linked List\n",
      "Positions range from 1 to  12\n",
      "\n",
      "Inserting node  13  at position  15\n",
      "Entered Position is way beyond the last element or first element of the Linked List\n",
      "Positions range from 1 to  12\n",
      "\n",
      "Inserting node  12  at position  11\n",
      "Inserting new node at the ith position of the Linked List\n",
      "New Node Inserted at position 11th\n",
      "New Linked List:\n",
      "1->2->10->3->4->11->5->6->7->8->12->9->None\n",
      "\n",
      "Inserting node  13  at position  12\n",
      "Inserting new node at the ith position of the Linked List\n",
      "New Node Inserted at position 12th\n",
      "New Linked List:\n",
      "1->2->10->3->4->11->5->6->7->8->12->13->9->None\n"
     ]
    }
   ],
   "source": [
    "linked_list_obj.insert_node_at_ith_position(10, 3)\n",
    "print()\n",
    "linked_list_obj.insert_node_at_ith_position(11, 6)\n",
    "print()\n",
    "linked_list_obj.insert_node_at_ith_position(12, 0)\n",
    "print()\n",
    "linked_list_obj.insert_node_at_ith_position(13, 15)\n",
    "print()\n",
    "linked_list_obj.insert_node_at_ith_position(12, 11)\n",
    "print()\n",
    "linked_list_obj.insert_node_at_ith_position(13, 12)"
   ]
  },
  {
   "cell_type": "code",
   "execution_count": 19,
   "metadata": {},
   "outputs": [
    {
     "name": "stdout",
     "output_type": "stream",
     "text": [
      "Inserting node  14  at position  14\n",
      "Inserting new node at the tail of the Linked List\n",
      "New Node Inserted at position 14th\n",
      "New Linked List:\n",
      "1->2->10->3->4->11->5->6->7->8->12->13->9->14->None\n",
      "\n",
      "Inserting node  15  at position  1\n",
      "Inserting new node at the head of the Linked List\n",
      "New Node Inserted at position 1th\n",
      "New Linked List:\n",
      "15->1->2->10->3->4->11->5->6->7->8->12->13->9->14->None\n",
      "\n",
      "Inserting node  16  at position  2\n",
      "Inserting new node at the ith position of the Linked List\n",
      "New Node Inserted at position 2th\n",
      "New Linked List:\n",
      "15->16->1->2->10->3->4->11->5->6->7->8->12->13->9->14->None\n",
      "\n"
     ]
    }
   ],
   "source": [
    "linked_list_obj.insert_node_at_ith_position(14, 14)\n",
    "print()\n",
    "linked_list_obj.insert_node_at_ith_position(15, 1)\n",
    "print()\n",
    "linked_list_obj.insert_node_at_ith_position(16, 2)\n",
    "print()"
   ]
  },
  {
   "cell_type": "code",
   "execution_count": 22,
   "metadata": {},
   "outputs": [
    {
     "name": "stdout",
     "output_type": "stream",
     "text": [
      "\n",
      "\n",
      "\n",
      "\n",
      "15->16->1->18->17->2->10->3->17->19->4->11->5->6->20->7->8->12->13->9->14->None\n"
     ]
    }
   ],
   "source": [
    "linked_list_obj.insert_at_ith_position_using_recursion(linked_list_obj.Head, 17, 8)\n",
    "print()\n",
    "linked_list_obj.insert_at_ith_position_using_recursion(linked_list_obj.Head, 18, 4)\n",
    "print()\n",
    "linked_list_obj.insert_at_ith_position_using_recursion(linked_list_obj.Head, 19, 10)\n",
    "print()\n",
    "linked_list_obj.insert_at_ith_position_using_recursion(linked_list_obj.Head, 20, 15)\n",
    "print()\n",
    "linked_list_obj.print_all_values_of_linked_list()"
   ]
  },
  {
   "cell_type": "code",
   "execution_count": 21,
   "metadata": {},
   "outputs": [
    {
     "name": "stdout",
     "output_type": "stream",
     "text": [
      "15->16->1->17->2->10->3->4->11->5->6->7->8->12->13->9->14->None\n"
     ]
    }
   ],
   "source": [
    "\n",
    "    "
   ]
  }
 ],
 "metadata": {
  "kernelspec": {
   "display_name": "base",
   "language": "python",
   "name": "python3"
  },
  "language_info": {
   "codemirror_mode": {
    "name": "ipython",
    "version": 3
   },
   "file_extension": ".py",
   "mimetype": "text/x-python",
   "name": "python",
   "nbconvert_exporter": "python",
   "pygments_lexer": "ipython3",
   "version": "3.11.7"
  },
  "orig_nbformat": 4,
  "vscode": {
   "interpreter": {
    "hash": "b16ced64710a4d8c99ae3dbf0c90823ef6abb92a4bc0ca6e13965003c1eb0fcc"
   }
  }
 },
 "nbformat": 4,
 "nbformat_minor": 2
}
