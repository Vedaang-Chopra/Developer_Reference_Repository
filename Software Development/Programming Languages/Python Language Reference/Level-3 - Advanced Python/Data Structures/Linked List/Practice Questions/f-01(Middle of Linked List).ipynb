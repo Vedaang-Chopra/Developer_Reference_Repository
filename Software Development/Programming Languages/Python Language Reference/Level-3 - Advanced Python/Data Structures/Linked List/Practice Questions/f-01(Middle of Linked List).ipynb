{
 "cells": [
  {
   "cell_type": "markdown",
   "metadata": {},
   "source": [
    "## Middle of Linked List"
   ]
  },
  {
   "cell_type": "markdown",
   "metadata": {},
   "source": [
    "Given a Singly Linked List, the task is to find the middle of the linked list. If the number of nodes are even, then there would be two middle nodes, so return the second middle node."
   ]
  },
  {
   "cell_type": "markdown",
   "metadata": {},
   "source": [
    "Input: linked list = 1 -> 2 -> 3 -> 4 -> 5\n",
    "Output: 3 \n",
    "Explanation: There are 5 nodes in the linked list and there is one middle node whose value is 3.\n",
    "\n",
    "Input: linked list = 1 -> 2 -> 3 -> 4 -> 5 -> 6\n",
    "Output: 4 \n",
    "Explanation: There are 6 nodes in the linked list, so we have two middle nodes: 3 and 4, but we will return the second middle node which is 4."
   ]
  },
  {
   "cell_type": "code",
   "execution_count": 21,
   "metadata": {},
   "outputs": [],
   "source": [
    "class Node:\n",
    "    def __init__(self, data):\n",
    "        self.data=data\n",
    "        self.next=None\n",
    "\n",
    "\n",
    "class LinkedList:\n",
    "    def __init__(self, arr:list) -> None:\n",
    "        self.head=None\n",
    "        self.create_linked_list_from_array(arr)\n",
    "    \n",
    "    def create_linked_list_from_array(self, arr):\n",
    "        i=0\n",
    "        curr_pointer=None\n",
    "        while i<len(arr):\n",
    "            new_node=Node(arr[i])\n",
    "            print(\"New Node:\",new_node.data)\n",
    "            if i==0:\n",
    "                self.head=new_node\n",
    "            else:\n",
    "                curr_pointer.next=new_node\n",
    "            curr_pointer=new_node\n",
    "            i=i+1\n",
    "    \n",
    "    \n",
    "    def print_linked_list(self):\n",
    "        curr=self.head\n",
    "        while curr!=None:\n",
    "            print(curr.data, \"->\", end=' ')\n",
    "            curr=curr.next\n",
    "        print(\"End\")\n",
    "    \n",
    "    def middle_of_linked_list(self) -> int:\n",
    "        counter=0\n",
    "        mid_pointer=self.head\n",
    "        curr=self.head\n",
    "        while curr!=None:\n",
    "            counter+=1\n",
    "            if counter%2==0:\n",
    "                # print(counter, mid_pointer.data)\n",
    "                mid_pointer=mid_pointer.next\n",
    "            curr=curr.next\n",
    "        print(\"Middle Value is:\",mid_pointer.data)\n",
    "    \n"
   ]
  },
  {
   "cell_type": "code",
   "execution_count": 22,
   "metadata": {},
   "outputs": [
    {
     "name": "stdout",
     "output_type": "stream",
     "text": [
      "New Node: 1\n",
      "New Node: 2\n",
      "New Node: 3\n",
      "New Node: 4\n",
      "New Node: 5\n",
      "New Node: 6\n",
      "New Node: 7\n",
      "1 -> 2 -> 3 -> 4 -> 5 -> 6 -> 7 -> End\n"
     ]
    }
   ],
   "source": [
    "linked_list_arr=[1,2,3,4,5,6,7]\n",
    "ll=LinkedList(linked_list_arr)\n",
    "ll.print_linked_list()"
   ]
  },
  {
   "cell_type": "code",
   "execution_count": 23,
   "metadata": {},
   "outputs": [
    {
     "name": "stdout",
     "output_type": "stream",
     "text": [
      "2 1\n",
      "4 2\n",
      "6 3\n",
      "Middle Value is: 4\n"
     ]
    }
   ],
   "source": [
    "ll.middle_of_linked_list()"
   ]
  }
 ],
 "metadata": {
  "kernelspec": {
   "display_name": "base",
   "language": "python",
   "name": "python3"
  },
  "language_info": {
   "codemirror_mode": {
    "name": "ipython",
    "version": 3
   },
   "file_extension": ".py",
   "mimetype": "text/x-python",
   "name": "python",
   "nbconvert_exporter": "python",
   "pygments_lexer": "ipython3",
   "version": "3.11.7"
  }
 },
 "nbformat": 4,
 "nbformat_minor": 2
}
