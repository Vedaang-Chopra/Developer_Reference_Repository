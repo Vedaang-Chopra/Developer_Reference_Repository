{
 "cells": [
  {
   "cell_type": "code",
   "execution_count": null,
   "metadata": {},
   "outputs": [],
   "source": [
    "integerno=10\n",
    "floatno=1.4\n",
    "complexno=23+4j\n",
    "# Operators........................................................\n",
    "print(a+b)                      # Normal Addition\n",
    "print(a-b)                      # Normal Subtraction\n",
    "print(a*b)                      # Normal Multiplication\n",
    "print(a/b)                      # Division with float answer\n",
    "print(a//b)                     # Division with integer answer\n",
    "print(a**b)                     # Exponent operator\n",
    "print(a%b)                      # Remainder Operator\n",
    "print(a*b/+a/b/b*b**b*b//a-b)   # This is done by BODMAS Rule"
   ]
  },
  {
   "cell_type": "code",
   "execution_count": null,
   "metadata": {},
   "outputs": [],
   "source": [
    "# User Input........................................\n",
    "a=input()\n",
    "print(a,type(a))\n",
    "# This input function is used for console input. It returns console input as string. Thus type a would be string.\n",
    "b=int(input())\n",
    "print(b,type(b))\n",
    "# To convert a string into a number we can do it using int function. Similarly there is a float function.\n",
    "c=float(input())\n",
    "d=complex(c,b)\n",
    "print(d,type(d))"
   ]
  }
 ],
 "metadata": {
  "language_info": {
   "name": "python"
  }
 },
 "nbformat": 4,
 "nbformat_minor": 2
}
