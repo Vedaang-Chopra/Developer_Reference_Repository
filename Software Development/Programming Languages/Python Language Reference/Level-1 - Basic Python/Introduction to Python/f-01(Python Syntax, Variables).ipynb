{
 "cells": [
  {
   "cell_type": "code",
   "execution_count": null,
   "metadata": {},
   "outputs": [],
   "source": [
    "# Variables and Basic Python Syntax ...............................\n",
    "a=12                        # Basic variable declaration(No Data type required)\n",
    "b=23\n",
    "print('These are Basic Maths Operations performed on variable')  # Basic Print Function\n",
    "print('New line')    # Here by default a new line is introduced at the end of <the data to be printed>.\n",
    "print('Hello World',end=\" \")\n",
    "# This is a method by which a specific parameter(end) is passed to the print function definition and the by default new line\n",
    "# character occurring at the end of <data to be printed> is replaced by space(character you want).\n"
   ]
  },
  {
   "cell_type": "code",
   "execution_count": null,
   "metadata": {},
   "outputs": [],
   "source": [
    "### Variables.......................................................................\n",
    "### Note:-\n",
    "##### 1. Variable declaration doesn't require a data type but still each variable is allocated a data type.\n",
    "##### 2. This data type can be checked using type function.\n",
    "##### 3. A variable can store any type of data.\n",
    "##### 4. There are 3 types of numbers integers, float and complex\n",
    "##### 5. Multiple variable assignment:-\n",
    "##### a,b,c=10,20,30    .......As python allows tuples thus multiple assignment technique can be used."
   ]
  },
  {
   "cell_type": "code",
   "execution_count": null,
   "metadata": {},
   "outputs": [],
   "source": []
  },
  {
   "cell_type": "code",
   "execution_count": null,
   "metadata": {},
   "outputs": [],
   "source": []
  }
 ],
 "metadata": {
  "language_info": {
   "name": "python"
  },
  "orig_nbformat": 4
 },
 "nbformat": 4,
 "nbformat_minor": 2
}
