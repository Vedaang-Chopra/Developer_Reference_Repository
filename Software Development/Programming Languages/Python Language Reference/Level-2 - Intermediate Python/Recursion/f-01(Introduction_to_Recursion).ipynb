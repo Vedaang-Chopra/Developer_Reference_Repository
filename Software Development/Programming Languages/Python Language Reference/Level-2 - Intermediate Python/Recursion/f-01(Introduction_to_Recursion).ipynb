{
 "cells": [
  {
   "cell_type": "markdown",
   "metadata": {},
   "source": [
    "'''\n",
    "Recursion: -\n",
    "1. Basic Definition: - Function calling itself\n",
    "2. Recursion Always needs a Base Case, without that it can get stuck in endless recursive calls \n",
    "3. Python by default has 1000 depth recursive calls\n",
    "4. While writing Recursion focus on the following things (PMI): - \n",
    "    a. What is the Base Case (The case after which recursion doesn't happen, proof of the smallest step)\n",
    "    b. What is my hypothesis ( The assumption that it is possible for K )\n",
    "    c. What is the induction step  (Hypothesis that we proved for k+1)\n",
    "'''"
   ]
  },
  {
   "cell_type": "code",
   "execution_count": null,
   "metadata": {},
   "outputs": [],
   "source": []
  },
  {
   "cell_type": "code",
   "execution_count": 2,
   "metadata": {},
   "outputs": [
    {
     "data": {
      "text/plain": [
       "(3628800, 3628800)"
      ]
     },
     "execution_count": 2,
     "metadata": {},
     "output_type": "execute_result"
    }
   ],
   "source": [
    "def factorial_recursive(n):\n",
    "    if n==1:\n",
    "        return 1\n",
    "    return n*factorial_recursive(n-1)\n",
    "\n",
    "def factorial_iterative(n):\n",
    "    fact=1\n",
    "    for i in range(1, n+1):\n",
    "        fact*=i \n",
    "    return fact\n",
    "\n",
    "factorial_recursive(10), factorial_iterative(10)"
   ]
  },
  {
   "cell_type": "code",
   "execution_count": 3,
   "metadata": {},
   "outputs": [
    {
     "data": {
      "text/plain": [
       "55"
      ]
     },
     "execution_count": 3,
     "metadata": {},
     "output_type": "execute_result"
    }
   ],
   "source": [
    "def sum_first_natural_numbers(n):\n",
    "    if n==0:                # Base Case\n",
    "        return 0\n",
    "    else:\n",
    "        smallOutput= sum_first_natural_numbers(n-1)      # Induction statement, don't worry how n-1 will work \n",
    "        return n+ smallOutput       # Hypothesis, assuming small output is correct.\n",
    "\n",
    "sum_first_natural_numbers(10)"
   ]
  },
  {
   "cell_type": "code",
   "execution_count": 12,
   "metadata": {},
   "outputs": [
    {
     "data": {
      "text/plain": [
       "(13, 13)"
      ]
     },
     "execution_count": 12,
     "metadata": {},
     "output_type": "execute_result"
    }
   ],
   "source": [
    "# Problem Statement : - Calculate the fibonacci number of the give input\n",
    "def fibonaaci_number(n):\n",
    "    if n==0:\n",
    "        return 0\n",
    "    if n==1:\n",
    "        return 1\n",
    "    \n",
    "    return fibonaaci_number(n-1) +fibonaaci_number(n-2)\n",
    "\n",
    "# Improved...........\n",
    "def fib_number(n):\n",
    "    if n==1 or n==2:\n",
    "        return 1\n",
    "    \n",
    "    return fib_number(n-1) + fib_number(n-2)\n",
    "\n",
    "FIB_NUMBER=7\n",
    "fibonaaci_number(FIB_NUMBER),fib_number(FIB_NUMBER)"
   ]
  },
  {
   "cell_type": "code",
   "execution_count": null,
   "metadata": {},
   "outputs": [],
   "source": [
    "## Python has default of recursion depth of 1000\n",
    "\n",
    "## To increase the limit, there is a way, not recommended, consumes a lot of space\n",
    "# import sys\n",
    "# sys.setrecursionlimit(3000)"
   ]
  },
  {
   "cell_type": "code",
   "execution_count": 7,
   "metadata": {},
   "outputs": [
    {
     "data": {
      "text/plain": [
       "(False, False)"
      ]
     },
     "execution_count": 7,
     "metadata": {},
     "output_type": "execute_result"
    }
   ],
   "source": [
    "# Problem Statement : - Check if list is sorted, using recursion\n",
    "\n",
    "def is_list_sorted(arr):\n",
    "    if len(arr) ==0 or len(arr)==1:\n",
    "        return True\n",
    "    \n",
    "    if arr[0] >arr[1]:\n",
    "        return False\n",
    "    \n",
    "    return is_list_sorted(arr[1:])\n",
    "\n",
    "\n",
    "def is_list_sorted_optimal(arr, index):\n",
    "    if index==len(arr) or index==len(arr)-1:\n",
    "        return True\n",
    "    \n",
    "    if arr[index] > arr[index+1]:\n",
    "        return False\n",
    "    \n",
    "    return is_list_sorted_optimal(arr, index+1)\n",
    "\n",
    "arr=[1,2,3,14,5]\n",
    "is_list_sorted(arr), is_list_sorted_optimal(arr, 0)"
   ]
  },
  {
   "cell_type": "code",
   "execution_count": 29,
   "metadata": {},
   "outputs": [
    {
     "data": {
      "text/plain": [
       "(4, 6)"
      ]
     },
     "execution_count": 29,
     "metadata": {},
     "output_type": "execute_result"
    }
   ],
   "source": [
    "# Problem Statement : - Find first occurence of element in an array, using recursion\n",
    "def find_first_occurence(arr, k):\n",
    "    if len(arr)==0:\n",
    "        return False\n",
    "    \n",
    "    if arr[0] ==k:\n",
    "        return 0\n",
    "    \n",
    "    return find_first_occurence(arr[1:], k)+1\n",
    "\n",
    "\n",
    "def find_first_occurence_optimal(arr, index, k):\n",
    "    if len(arr)==index:\n",
    "        return False\n",
    "    \n",
    "    if arr[index]==k:\n",
    "        return index\n",
    "    \n",
    "    return find_first_occurence_optimal(arr, index+1, k)\n",
    "\n",
    "\n",
    "\n",
    "\n",
    "arr=[1, 3, 4, 5, 6, 8, 10]\n",
    "find_first_occurence(arr, 6), find_first_occurence_optimal(arr, 0, 10)"
   ]
  },
  {
   "cell_type": "code",
   "execution_count": 44,
   "metadata": {},
   "outputs": [
    {
     "data": {
      "text/plain": [
       "(2, 7)"
      ]
     },
     "execution_count": 44,
     "metadata": {},
     "output_type": "execute_result"
    }
   ],
   "source": [
    "# Problem Statement : - Find last occurence of element in an array, using recursion\n",
    "def find_last_occurence(arr, k):\n",
    "    if len(arr)==0:\n",
    "        return -1\n",
    "    \n",
    "    index = find_last_occurence(arr[1:], k) \n",
    "    if index !=-1:\n",
    "        return index +1 \n",
    "    else:\n",
    "        if arr[0]==k:\n",
    "            return 0 \n",
    "        else:\n",
    "            return -1\n",
    "        \n",
    "        \n",
    "def find_last_occurence_optimal(arr, si, k):\n",
    "    if len(arr)==si:\n",
    "        return -1\n",
    "    \n",
    "    index = find_last_occurence_optimal(arr, si+1, k) \n",
    "    if index !=-1:\n",
    "        return index\n",
    "    else:\n",
    "        if arr[si]==k:\n",
    "            return si \n",
    "        else:\n",
    "            return -1\n",
    "    \n",
    "\n",
    "arr=[1, 3, 3, 4, 5, 6, 8, 1 , 10, 6]\n",
    "find_last_occurence(arr, 3), find_last_occurence_optimal(arr, 0, 1)"
   ]
  }
 ],
 "metadata": {
  "kernelspec": {
   "display_name": "Python 3",
   "language": "python",
   "name": "python3"
  },
  "language_info": {
   "codemirror_mode": {
    "name": "ipython",
    "version": 3
   },
   "file_extension": ".py",
   "mimetype": "text/x-python",
   "name": "python",
   "nbconvert_exporter": "python",
   "pygments_lexer": "ipython3",
   "version": "3.11.7"
  }
 },
 "nbformat": 4,
 "nbformat_minor": 2
}
