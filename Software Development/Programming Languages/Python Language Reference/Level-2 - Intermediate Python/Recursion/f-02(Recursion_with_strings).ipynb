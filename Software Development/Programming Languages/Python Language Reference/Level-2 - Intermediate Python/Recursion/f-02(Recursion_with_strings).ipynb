{
 "cells": [
  {
   "cell_type": "code",
   "execution_count": null,
   "metadata": {},
   "outputs": [],
   "source": []
  },
  {
   "cell_type": "code",
   "execution_count": 6,
   "metadata": {},
   "outputs": [
    {
     "data": {
      "text/plain": [
       "'bjngsbjfjbflblbfklmndblkvn'"
      ]
     },
     "execution_count": 6,
     "metadata": {},
     "output_type": "execute_result"
    }
   ],
   "source": [
    "# Problem Statement : - Replace a certain charachter of string with other\n",
    "\n",
    "\n",
    "def replace_charachter(temp_str, main_char, replace_char):\n",
    "    if len(temp_str)==0:\n",
    "        return temp_str\n",
    "\n",
    "    if temp_str[0]==main_char:\n",
    "        return replace_char + replace_charachter(temp_str[1:], main_char, replace_char)\n",
    "    else:\n",
    "        return temp_str[0] +replace_charachter(temp_str[1:], main_char, replace_char)\n",
    "        \n",
    "replace_charachter('ajngsajfjaflalafklmndalkvn', 'a', 'b')"
   ]
  },
  {
   "cell_type": "code",
   "execution_count": 13,
   "metadata": {},
   "outputs": [
    {
     "data": {
      "text/plain": [
       "'abc3.14nmd3.14'"
      ]
     },
     "execution_count": 13,
     "metadata": {},
     "output_type": "execute_result"
    }
   ],
   "source": [
    "# Problem Statement : - Replace a certain subsection of string with other \n",
    "\n",
    "def replace_string_subsection(temp_str, main_phrase, replace_phase):\n",
    "    if len(temp_str)==0 or len(temp_str)==1:\n",
    "        return temp_str\n",
    "    \n",
    "    \n",
    "    if temp_str[0]+temp_str[1] == main_phrase:\n",
    "        return replace_phase + replace_string_subsection(temp_str[2:], main_phrase, replace_phase)\n",
    "    else:\n",
    "        return temp_str[0] + replace_string_subsection(temp_str[1:], main_phrase, replace_phase)\n",
    "\n",
    "\n",
    "\n",
    "replace_string_subsection('abcpinmdpi', 'pi', '3.14')"
   ]
  },
  {
   "cell_type": "code",
   "execution_count": null,
   "metadata": {},
   "outputs": [],
   "source": [
    "a=[1, 2, 4, 5, 7, 3, 10 , 11]\n",
    "\n",
    "def binary_search_"
   ]
  },
  {
   "cell_type": "code",
   "execution_count": null,
   "metadata": {},
   "outputs": [],
   "source": []
  },
  {
   "cell_type": "code",
   "execution_count": null,
   "metadata": {},
   "outputs": [],
   "source": []
  }
 ],
 "metadata": {
  "kernelspec": {
   "display_name": "base",
   "language": "python",
   "name": "python3"
  },
  "language_info": {
   "codemirror_mode": {
    "name": "ipython",
    "version": 3
   },
   "file_extension": ".py",
   "mimetype": "text/x-python",
   "name": "python",
   "nbconvert_exporter": "python",
   "pygments_lexer": "ipython3",
   "version": "3.11.7"
  }
 },
 "nbformat": 4,
 "nbformat_minor": 2
}
