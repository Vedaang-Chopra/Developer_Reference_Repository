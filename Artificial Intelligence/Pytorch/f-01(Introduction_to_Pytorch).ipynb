{
 "cells": [
  {
   "cell_type": "code",
   "execution_count": 1,
   "metadata": {},
   "outputs": [],
   "source": [
    "import torch"
   ]
  },
  {
   "cell_type": "code",
   "execution_count": null,
   "metadata": {},
   "outputs": [],
   "source": [
    "# Pytorch works primarily on tensors, \n",
    "# Numpy- Arrays and vectors\n",
    "\n",
    "#  Tensors can be 1-D, 2-D, 3-D, ...."
   ]
  },
  {
   "cell_type": "code",
   "execution_count": null,
   "metadata": {},
   "outputs": [],
   "source": [
    "x=torch.empty(1)       #  Creating an empty tensor\n",
    "print(x)\n",
    "\n",
    "x=torch.empty(1,2,3)    # Creating a multi-dimentsional tensor\n",
    "print(x)"
   ]
  },
  {
   "cell_type": "code",
   "execution_count": null,
   "metadata": {},
   "outputs": [],
   "source": [
    "\n",
    "# Tensor with random values\n",
    "x=torch.rand(2,2)"
   ]
  },
  {
   "cell_type": "code",
   "execution_count": null,
   "metadata": {},
   "outputs": [],
   "source": [
    "# Tensor with zeros or ones\n",
    "x=torch.zeros(2,2)\n",
    "x=torch.ones(1,1)"
   ]
  },
  {
   "cell_type": "code",
   "execution_count": null,
   "metadata": {},
   "outputs": [],
   "source": [
    "# Checking datatype, default data type is float \n",
    "print(x.dtype)\n",
    "\n",
    "# Creating tensor with specific dtype \n",
    "x=torch.ones(1,1, dtype=torch.int32)"
   ]
  },
  {
   "cell_type": "code",
   "execution_count": null,
   "metadata": {},
   "outputs": [],
   "source": [
    "# Check size of Tensor\n",
    "x.size()\n",
    "\n",
    "# Constrcut tensor from list\n",
    "x=torch.tensor([0,1,2,3,4])\n",
    "print(x)"
   ]
  },
  {
   "cell_type": "code",
   "execution_count": null,
   "metadata": {},
   "outputs": [],
   "source": [
    "# Basic Operations on Tensors\n",
    "x1=torch.rand(2,2)\n",
    "x2=torch.rand(2,2)\n",
    "x3=x1+x2\n",
    "x3=torch.add(x1,x2)\n",
    "print('x1+x2=x3'+x1+\"+\"+x2+\"=\"+x3)"
   ]
  },
  {
   "cell_type": "code",
   "execution_count": null,
   "metadata": {},
   "outputs": [],
   "source": [
    "# Add value to x, an change value(_ after function makes changes in variable)\n",
    "x2.add_(x1)\n",
    "\n",
    "# Subtraction\n",
    "x4=x2-x1\n",
    "x4=torch.sub(x1,x2)"
   ]
  },
  {
   "cell_type": "code",
   "execution_count": null,
   "metadata": {},
   "outputs": [],
   "source": [
    "# Multiplication\n",
    "x5=x2*x1\n",
    "x5=torch.mul(x1,x2)\n",
    "\n",
    "# Division\n",
    "x6=x2/x1\n",
    "x6=torch.div(x1,x2)"
   ]
  },
  {
   "cell_type": "code",
   "execution_count": null,
   "metadata": {},
   "outputs": [],
   "source": []
  },
  {
   "cell_type": "code",
   "execution_count": null,
   "metadata": {},
   "outputs": [],
   "source": []
  },
  {
   "cell_type": "code",
   "execution_count": null,
   "metadata": {},
   "outputs": [],
   "source": []
  }
 ],
 "metadata": {
  "kernelspec": {
   "display_name": "base",
   "language": "python",
   "name": "python3"
  },
  "language_info": {
   "codemirror_mode": {
    "name": "ipython",
    "version": 3
   },
   "file_extension": ".py",
   "mimetype": "text/x-python",
   "name": "python",
   "nbconvert_exporter": "python",
   "pygments_lexer": "ipython3",
   "version": "3.8.15"
  },
  "orig_nbformat": 4
 },
 "nbformat": 4,
 "nbformat_minor": 2
}
