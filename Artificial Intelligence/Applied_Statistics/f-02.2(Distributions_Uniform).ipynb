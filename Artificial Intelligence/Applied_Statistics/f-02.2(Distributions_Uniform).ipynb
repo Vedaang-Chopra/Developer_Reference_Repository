{
 "cells": [
  {
   "cell_type": "markdown",
   "metadata": {},
   "source": [
    "## Random Number Generator (Uniform Generator)"
   ]
  },
  {
   "cell_type": "code",
   "execution_count": 2,
   "metadata": {},
   "outputs": [
    {
     "data": {
      "text/plain": [
       "0.9627776122054809"
      ]
     },
     "execution_count": 2,
     "metadata": {},
     "output_type": "execute_result"
    }
   ],
   "source": [
    "#  With pseudo random generators, we get a random value between two integers(prb of getting a number is equal for all values)\n",
    "import random\n",
    "random.random() # returns a random number between 0 and 1, using uniform distribution           "
   ]
  },
  {
   "cell_type": "code",
   "execution_count": 3,
   "metadata": {},
   "outputs": [
    {
     "data": {
      "text/plain": [
       "(150, 4)"
      ]
     },
     "execution_count": 3,
     "metadata": {},
     "output_type": "execute_result"
    }
   ],
   "source": [
    "from sklearn.datasets import load_iris\n",
    "iris=load_iris()\n",
    "d=iris.data\n",
    "d.shape"
   ]
  },
  {
   "cell_type": "code",
   "execution_count": 14,
   "metadata": {},
   "outputs": [
    {
     "data": {
      "text/plain": [
       "26"
      ]
     },
     "execution_count": 14,
     "metadata": {},
     "output_type": "execute_result"
    }
   ],
   "source": [
    "# Example: Sample 30 points randomly from a dataset of 150 points\n",
    "no_of_samples=150\n",
    "sample_size=30\n",
    "prob_of_each_sample=sample_size/no_of_samples\n",
    "# Probability of any sample getting selected is equal"
   ]
  },
  {
   "cell_type": "code",
   "execution_count": null,
   "metadata": {},
   "outputs": [],
   "source": [
    "sampled_data=[]\n",
    "for i in range(0,no_of_samples):\n",
    "    if random.random() <=prob_of_each_sample:  \n",
    "        sampled_data.append(d[i,:])\n",
    "len(sampled_data)"
   ]
  }
 ],
 "metadata": {
  "kernelspec": {
   "display_name": "Python 3.8.13 ('base')",
   "language": "python",
   "name": "python3"
  },
  "language_info": {
   "codemirror_mode": {
    "name": "ipython",
    "version": 3
   },
   "file_extension": ".py",
   "mimetype": "text/x-python",
   "name": "python",
   "nbconvert_exporter": "python",
   "pygments_lexer": "ipython3",
   "version": "3.8.13"
  },
  "orig_nbformat": 4,
  "vscode": {
   "interpreter": {
    "hash": "b16ced64710a4d8c99ae3dbf0c90823ef6abb92a4bc0ca6e13965003c1eb0fcc"
   }
  }
 },
 "nbformat": 4,
 "nbformat_minor": 2
}
