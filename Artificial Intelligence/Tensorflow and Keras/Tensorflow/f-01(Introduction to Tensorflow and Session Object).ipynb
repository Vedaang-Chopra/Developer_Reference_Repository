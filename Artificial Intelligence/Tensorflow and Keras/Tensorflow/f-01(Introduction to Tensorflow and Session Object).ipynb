{
 "cells": [
  {
   "cell_type": "code",
   "execution_count": null,
   "metadata": {},
   "outputs": [],
   "source": [
    "# TensorFlow:- It is an optimized library that is used to create a neural networks. Sklearn's implementation of neural networks is not optimized.\n",
    "# Open Source Library developed by Google for any kind of machine learning algorithm or deep learning algorithms.\n",
    "# It is written in C and C++ and provides implementation in python.\n",
    "# In this we write a bunch of code, which stores in the ememory and  is executed once we call run function on it.\n",
    "# Tensor-flow has to be installed to conda interpreter,then needs to be imported."
   ]
  },
  {
   "cell_type": "code",
   "execution_count": null,
   "metadata": {},
   "outputs": [],
   "source": [
    "import tensorflow as tf"
   ]
  },
  {
   "cell_type": "code",
   "execution_count": null,
   "metadata": {},
   "outputs": [],
   "source": [
    "# Creating Constant in Tensor flow........\n",
    "a=tf.constant(2)\n",
    "b=tf.constant(3)"
   ]
  },
  {
   "cell_type": "code",
   "execution_count": null,
   "metadata": {},
   "outputs": [],
   "source": [
    "# a is tensor object. It has parameters:\n",
    "# Const: The no. of constant ever created by the user using tensor flow\n",
    "# shape: The shape of constant created\n",
    "# dtype: Data type of Constant\n",
    "print(a)"
   ]
  },
  {
   "cell_type": "code",
   "execution_count": null,
   "metadata": {},
   "outputs": [],
   "source": [
    "# By adding two tensor objects the va;ue are not added, but only the add function is called\n",
    "print(a+b)\n",
    "# To add the values of two tensor constants a and b we have to create a Tesnorflow session.\n",
    "# Then we have to execute this session."
   ]
  },
  {
   "cell_type": "code",
   "execution_count": null,
   "metadata": {},
   "outputs": [],
   "source": [
    "sess=tf.Session()                      # Creating a session\n",
    "print(sess.run(a+b))                   # Executing the session, which actually does all the computations."
   ]
  },
  {
   "cell_type": "code",
   "execution_count": null,
   "metadata": {},
   "outputs": [],
   "source": [
    "a1=tf.constant([[3,3]])                 # 2-D array of shape 1*2\n",
    "a2=tf.constant([[3],[3]])               # 2-D array of shape 2*1\n",
    "print(tf.matmul(a1,a2))                             # Returns the Tensor Object as matrix multiplication object\n",
    "print(sess.run((tf.matmul(a1,a2))))              # Performing the Matrix Multiplication on actual values."
   ]
  },
  {
   "cell_type": "code",
   "execution_count": null,
   "metadata": {},
   "outputs": [],
   "source": [
    "# Understanding the Session object............................\n",
    "# We can run call session.run() all the computations that we have or we can use it the other way."
   ]
  },
  {
   "cell_type": "code",
   "execution_count": null,
   "metadata": {},
   "outputs": [],
   "source": [
    "print('Using the Eval Function.............')\n",
    "# To use the eval function, we need to create a Session Block using with which has a default sesssion.\n",
    "with tf.Session() as abc:\n",
    "    # To add two tensor objects we could use the add function. Then using the eval function we could evaluate those values.\n",
    "    # This is done as a replacement method to session.run()\n",
    "    print(tf.add(a,b).eval())\n"
   ]
  },
  {
   "cell_type": "code",
   "execution_count": null,
   "metadata": {},
   "outputs": [],
   "source": []
  },
  {
   "cell_type": "code",
   "execution_count": null,
   "metadata": {},
   "outputs": [],
   "source": []
  },
  {
   "cell_type": "code",
   "execution_count": null,
   "metadata": {},
   "outputs": [],
   "source": []
  },
  {
   "cell_type": "code",
   "execution_count": null,
   "metadata": {},
   "outputs": [],
   "source": []
  }
 ],
 "metadata": {
  "language_info": {
   "name": "python"
  },
  "orig_nbformat": 4
 },
 "nbformat": 4,
 "nbformat_minor": 2
}
