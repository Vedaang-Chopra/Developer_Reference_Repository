{
 "cells": [
  {
   "cell_type": "code",
   "execution_count": 1,
   "metadata": {},
   "outputs": [],
   "source": [
    "import numpy as np\n",
    "import pandas as pd\n",
    "import matplotlib.pyplot as plt\n",
    "%matplotlib inline\n",
    "import seaborn as sns"
   ]
  },
  {
   "cell_type": "code",
   "execution_count": 2,
   "metadata": {},
   "outputs": [],
   "source": [
    "import dask.dataframe as dd"
   ]
  },
  {
   "cell_type": "code",
   "execution_count": 3,
   "metadata": {},
   "outputs": [],
   "source": [
    "import os \n",
    "import platform\n",
    "import time"
   ]
  },
  {
   "cell_type": "code",
   "execution_count": 4,
   "metadata": {},
   "outputs": [],
   "source": [
    "\n",
    "from sklearn.cluster import MiniBatchKMeans\n",
    "from dask_ml.wrappers import ParallelPostFit\n",
    "import joblib"
   ]
  },
  {
   "cell_type": "code",
   "execution_count": 5,
   "metadata": {},
   "outputs": [],
   "source": [
    "from dask.distributed import Client\n",
    "client = Client(processes=False)             # create local cluster\n",
    "# client = Client(\"scheduler-address:8786\")  # or connect to remote cluster"
   ]
  },
  {
   "cell_type": "code",
   "execution_count": 6,
   "metadata": {},
   "outputs": [],
   "source": [
    "#  Setting Path to Dataset\n",
    "if platform.system().lower().__contains__('windows'):\n",
    "    BASE_PATH_TO_CODE_REPOSITORY=(os.sep).join(os.getcwd().split(os.sep)[:os.getcwd().split(os.sep).index('Code Repository')+1])\n",
    "    BASE_PATH_TO_DATASETS=os.path.join(BASE_PATH_TO_CODE_REPOSITORY,'External_Datasets_for_All_Projects')\n",
    "    TOPIC_CODE_NOTES_DATASETS=os.path.join(BASE_PATH_TO_DATASETS,'Individual_Topics_Code_Notes')\n",
    "    PYTHON_NOTES_DATASET_PATH=os.path.join(TOPIC_CODE_NOTES_DATASETS,'Python for AI')\n",
    "    DASK_DATASET=os.path.join(PYTHON_NOTES_DATASET_PATH,'Dask')\n",
    "    DASK_CLUSTERING_DATASET=os.path.join(DASK_DATASET,'Dask_Clustering')\n",
    "elif platform.system().lower().__contains__('linux'):\n",
    "    BASE_PATH_TO_CODE_REPOSITORY=(os.sep).join(os.getcwd().split(os.sep)[:os.getcwd().split(os.sep).index('Code Repository')+1])\n",
    "    BASE_PATH_TO_DATASETS=os.path.join(BASE_PATH_TO_CODE_REPOSITORY,'External_Datasets_for_All_Projects')\n",
    "    TOPIC_CODE_NOTES_DATASETS=os.path.join(BASE_PATH_TO_DATASETS,'Individual_Topics_Code_Notes')\n",
    "    PYTHON_NOTES_DATASET_PATH=os.path.join(TOPIC_CODE_NOTES_DATASETS,'Python for AI')\n",
    "    DASK_DATASET=os.path.join(PYTHON_NOTES_DATASET_PATH,'Dask')\n",
    "    DASK_CLUSTERING_DATASET=os.path.join(DASK_DATASET,'Dask_Clustering')\n",
    "else:\n",
    "    print('OS Error')"
   ]
  },
  {
   "cell_type": "code",
   "execution_count": 7,
   "metadata": {},
   "outputs": [],
   "source": [
    "FILE_NAME='train.csv'\n",
    "FILE_PATH=os.path.join(DASK_CLUSTERING_DATASET,'train.csv',FILE_NAME)"
   ]
  },
  {
   "cell_type": "code",
   "execution_count": 8,
   "metadata": {},
   "outputs": [
    {
     "data": {
      "text/plain": [
       "0.01396322250366211"
      ]
     },
     "execution_count": 8,
     "metadata": {},
     "output_type": "execute_result"
    }
   ],
   "source": [
    "start_time=time.time()\n",
    "df_dask=dd.read_csv(FILE_PATH)\n",
    "end_time=time.time()\n",
    "end_time-start_time"
   ]
  },
  {
   "cell_type": "code",
   "execution_count": 9,
   "metadata": {},
   "outputs": [
    {
     "data": {
      "text/plain": [
       "6.305882930755615"
      ]
     },
     "execution_count": 9,
     "metadata": {},
     "output_type": "execute_result"
    }
   ],
   "source": [
    "start_time=time.time()\n",
    "df_pandas=pd.read_csv(FILE_PATH)\n",
    "end_time=time.time()\n",
    "end_time-start_time"
   ]
  },
  {
   "cell_type": "code",
   "execution_count": 10,
   "metadata": {},
   "outputs": [
    {
     "data": {
      "text/plain": [
       "0.9737448692321777"
      ]
     },
     "execution_count": 10,
     "metadata": {},
     "output_type": "execute_result"
    }
   ],
   "source": [
    "start_time=time.time()\n",
    "clf_pandas=MiniBatchKMeans(n_clusters=3)\n",
    "clf_pandas.partial_fit(df_pandas)\n",
    "end_time=time.time()\n",
    "end_time-start_time"
   ]
  },
  {
   "cell_type": "code",
   "execution_count": 11,
   "metadata": {},
   "outputs": [
    {
     "data": {
      "text/plain": [
       "array([[9.80388500e+05, 2.03514170e+04, 2.69122021e+01, 2.59806118e+01,\n",
       "        1.30751047e+00, 7.35673594e+00, 6.20512491e-01, 1.12336392e+01],\n",
       "       [5.11794800e+06, 1.06624832e+05, 2.70372609e+01, 2.62867864e+01,\n",
       "        1.30700412e+00, 7.30805534e+00, 6.20377375e-01, 1.12004082e+01],\n",
       "       [3.08033600e+06, 6.41396880e+04, 2.71438677e+01, 2.59993953e+01,\n",
       "        1.30715579e+00, 7.30197827e+00, 6.20452955e-01, 1.12252219e+01]])"
      ]
     },
     "execution_count": 11,
     "metadata": {},
     "output_type": "execute_result"
    }
   ],
   "source": [
    "clf_pandas.cluster_centers_"
   ]
  },
  {
   "cell_type": "code",
   "execution_count": 12,
   "metadata": {},
   "outputs": [
    {
     "data": {
      "text/plain": [
       "3.0860023498535156"
      ]
     },
     "execution_count": 12,
     "metadata": {},
     "output_type": "execute_result"
    }
   ],
   "source": [
    "start_time=time.time()\n",
    "with joblib.parallel_backend('dask'):\n",
    "    # clf_dask=ParallelPostFit(MiniBatchKMeans(n_clusters=3),scoring=\"r2\")\n",
    "    clf_dask=(MiniBatchKMeans(n_clusters=3))\n",
    "    clf_dask.partial_fit(df_dask)\n",
    "\n",
    "end_time=time.time()\n",
    "end_time-start_time"
   ]
  },
  {
   "cell_type": "code",
   "execution_count": 13,
   "metadata": {},
   "outputs": [
    {
     "data": {
      "text/plain": [
       "array([[2.34394050e+06, 4.87422651e+04, 2.69461656e+01, 2.59591400e+01,\n",
       "        1.30723850e+00, 7.35181675e+00, 6.20468464e-01, 1.12324983e+01],\n",
       "       [4.73361900e+06, 9.86348205e+04, 2.71197859e+01, 2.62573409e+01,\n",
       "        1.30714074e+00, 7.27306632e+00, 6.20423432e-01, 1.11892658e+01],\n",
       "       [6.28322000e+05, 1.30350330e+04, 2.70186640e+01, 2.59249922e+01,\n",
       "        1.30737565e+00, 7.36998166e+00, 6.20469775e-01, 1.12640378e+01]])"
      ]
     },
     "execution_count": 13,
     "metadata": {},
     "output_type": "execute_result"
    }
   ],
   "source": [
    "clf_dask.cluster_centers_"
   ]
  }
 ],
 "metadata": {
  "interpreter": {
   "hash": "ed99d7d0aaa497aa67d7d9f4f636af1d529477fa95da14b096776f42ebe05bfa"
  },
  "kernelspec": {
   "display_name": "Python 3.8.8 ('base')",
   "language": "python",
   "name": "python3"
  },
  "language_info": {
   "codemirror_mode": {
    "name": "ipython",
    "version": 3
   },
   "file_extension": ".py",
   "mimetype": "text/x-python",
   "name": "python",
   "nbconvert_exporter": "python",
   "pygments_lexer": "ipython3",
   "version": "3.8.8"
  },
  "orig_nbformat": 4
 },
 "nbformat": 4,
 "nbformat_minor": 2
}
