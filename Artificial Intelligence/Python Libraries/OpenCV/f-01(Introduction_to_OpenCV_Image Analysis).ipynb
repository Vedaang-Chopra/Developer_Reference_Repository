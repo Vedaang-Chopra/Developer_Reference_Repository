{
 "cells": [
  {
   "cell_type": "code",
   "execution_count": 2,
   "metadata": {},
   "outputs": [],
   "source": [
    "# Computer Vision:- The processing of images to emulate human behaviour.\n",
    "# OpenCv is an image processing library. It is a python based library. It is used for image processing tasks.\n",
    "# Initially created by Intel.\n",
    "# Images are represented as a pixel matrix in computer consisting of pixel data.\n",
    "# To get sample images and Videos we can use the github repository of OpenCV.\n",
    "\n",
    "import cv2\n",
    "import numpy as np\n",
    "import pandas as pd\n",
    "import matplotlib.pyplot as plt\n",
    "import seaborn as sns"
   ]
  },
  {
   "cell_type": "code",
   "execution_count": 3,
   "metadata": {
    "pycharm": {
     "name": "#%%\n"
    }
   },
   "outputs": [],
   "source": [
    "import os\n",
    "import platform"
   ]
  },
  {
   "cell_type": "code",
   "execution_count": 4,
   "metadata": {},
   "outputs": [],
   "source": [
    "#  Setting Path to Dataset\n",
    "if platform.system().lower().__contains__('windows'):\n",
    "    BASE_PATH_TO_CODE_REPOSITORY=(os.sep).join(os.getcwd().split(os.sep)[:os.getcwd().split(os.sep).index('Code Repository')+1])\n",
    "    BASE_PATH_TO_DATASETS=os.path.join(BASE_PATH_TO_CODE_REPOSITORY,'External_Datasets_for_All_Projects')\n",
    "    TOPIC_CODE_NOTES_DATASETS=os.path.join(BASE_PATH_TO_DATASETS,'Individual_Topics_Code_Notes')\n",
    "    PYTHON_LIBRARIES_DATASET_PATH=os.path.join(TOPIC_CODE_NOTES_DATASETS,'Python Libraries')\n",
    "    OPENCV_BASE_PATH=os.path.join(PYTHON_LIBRARIES_DATASET_PATH,'OpenCV')\n",
    "elif platform.system().lower().__contains__('linux'):\n",
    "    BASE_PATH_TO_CODE_REPOSITORY=(os.sep).join(os.getcwd().split(os.sep)[:os.getcwd().split(os.sep).index('Code Repository')+1])\n",
    "    BASE_PATH_TO_DATASETS=os.path.join(BASE_PATH_TO_CODE_REPOSITORY,'External_Datasets_for_All_Projects')\n",
    "    TOPIC_CODE_NOTES_DATASETS=os.path.join(BASE_PATH_TO_DATASETS,'Individual_Topics_Code_Notes')\n",
    "    PYTHON_LIBRARIES_DATASET_PATH=os.path.join(TOPIC_CODE_NOTES_DATASETS,'Python Libraries')\n",
    "    OPENCV_BASE_PATH=os.path.join(PYTHON_LIBRARIES_DATASET_PATH,'OpenCV')\n",
    "else:\n",
    "    print('OS Error')"
   ]
  },
  {
   "cell_type": "code",
   "execution_count": 5,
   "metadata": {
    "collapsed": false,
    "pycharm": {
     "name": "#%%\n"
    }
   },
   "outputs": [],
   "source": [
    "# ppi:- No. of pixel per inch, display resolution metric\n",
    "# Grayscale:- Representation of image in one shade/channel\n",
    "# Coloured Image:- Representation of image in more than one shade/channel.\n",
    "# Grayscale images are easier to process, because they only one channel(image is only in black and white colour).\n",
    "# Three channels images are RGB or BGR, where four channel images have RGB and alpha(degree of opaqueness).\n",
    "\n",
    "# IMREAD_GRAYSCALE is similar to filter also denoted by 0.\n",
    "# By default in opencv 3 channel image is read BGR mode.\n",
    "# Other filters include IMREAD_COLOR or denoted by number 1 OR IMREAD_UNCHANGED OR denoted by number -1."
   ]
  },
  {
   "cell_type": "code",
   "execution_count": 15,
   "metadata": {
    "pycharm": {
     "name": "#%%\n"
    }
   },
   "outputs": [],
   "source": [
    "# Loading Images and Reading it in Grayscale............\n",
    "# Note if there is wrong path or file error, there is no error returned. It creates a None value object.\n",
    "images_path=[os.path.join(OPENCV_BASE_PATH,'batman.jpeg'),os.path.join(OPENCV_BASE_PATH,'joker.jpeg')]\n",
    "images=[]\n",
    "for i in images_path:\n",
    "    images.append(cv2.imread(i,cv2.IMREAD_GRAYSCALE))"
   ]
  },
  {
   "cell_type": "code",
   "execution_count": 18,
   "metadata": {
    "collapsed": false,
    "pycharm": {
     "name": "#%%\n"
    }
   },
   "outputs": [],
   "source": [
    "# Displaying Images.................\n",
    "\n",
    "# Without the wait key the image is displayed for a split second.\n",
    "# With the Wait key method it takes argument number of seconds.\n",
    "# If the no. of seconds is 0 then, it just waits for us to close the window.\n",
    "# The destroy all windows method help us to exit the new window created.\n",
    "for i in images:\n",
    "    cv2.imshow('images',i)\n",
    "    cv2.waitKey(0)\n",
    "    cv2.destroyAllWindows()"
   ]
  },
  {
   "cell_type": "code",
   "execution_count": 23,
   "metadata": {
    "collapsed": false,
    "pycharm": {
     "name": "#%%\n"
    }
   },
   "outputs": [],
   "source": [
    "# Loading Images and Reading it in Colour............\n",
    "images_path=[os.path.join(OPENCV_BASE_PATH,'batman.jpeg'),os.path.join(OPENCV_BASE_PATH,'joker.jpeg')]\n",
    "images=[]\n",
    "for i in images_path:\n",
    "    images.append(cv2.imread(i,1))"
   ]
  },
  {
   "cell_type": "code",
   "execution_count": 24,
   "metadata": {
    "pycharm": {
     "name": "#%%\n"
    }
   },
   "outputs": [],
   "source": [
    "# Displaying Images.................\n",
    "for i in images:\n",
    "    cv2.imshow('images',i)\n",
    "    cv2.waitKey(0)\n",
    "    cv2.destroyAllWindows()"
   ]
  },
  {
   "cell_type": "code",
   "execution_count": null,
   "metadata": {
    "pycharm": {
     "name": "#%%\n"
    }
   },
   "outputs": [],
   "source": [
    "# Writing an image.................\n",
    "cv2.imwrite('batman_copy.jpg',images[0])"
   ]
  },
  {
   "cell_type": "code",
   "execution_count": null,
   "metadata": {
    "pycharm": {
     "name": "#%%\n"
    }
   },
   "outputs": [],
   "source": [
    "# Exiting the imshow function on a specific key\n",
    "for i in range(0,len(images)):\n",
    "    cv2.imshow('images',images[i])\n",
    "    key_value=cv2.waitKey(0)\n",
    "    if key_value==True or i<=len(images):\n",
    "        cv2.destroyAllWindows()\n",
    "    else:\n",
    "        continue"
   ]
  },
  {
   "cell_type": "code",
   "execution_count": null,
   "metadata": {
    "pycharm": {
     "name": "#%%\n"
    }
   },
   "outputs": [],
   "source": [
    "# Capturing Live Stream from Camera\n",
    "\n",
    "# The VideoCapture Function takes either the path of a video file, if you want to read a video file.\n",
    "# For a live camera stream, we provide it with the camera index, it could be 0 or -1 for the default camera.\n",
    "# For additional cameras use index 1,2 and so on for multi camera setup.\n",
    "# The isopened method helps to detcet whether we have a given a correct video path or camera index\n",
    "capture_data=cv2.VideoCapture(0)\n",
    "while (capture_data.isOpened()):\n",
    "    ret,frame=capture_data.read()\n",
    "    # The ret variable hold wether we have a frame value or not(True/False)\n",
    "    # The frame variable actually holds the frame data.\n",
    "    cv2.imshow('frame',frame)\n",
    "    key_value=cv2.waitKey(1)\n",
    "    if key_value and key_value==ord('q'):\n",
    "        # Releasing the Live Stream and Destroying the Stream Window.....................\n",
    "        capture_data.release()\n",
    "        cv2.destroyAllWindows()\n",
    "        break"
   ]
  },
  {
   "cell_type": "code",
   "execution_count": null,
   "metadata": {
    "collapsed": false,
    "pycharm": {
     "name": "#%%\n"
    }
   },
   "outputs": [],
   "source": [
    "# Reading image in Gray Scale from live camera.............................\n",
    "\n",
    "# To convert image into grayscale, use the filter COLOR_BGR2GRAY..\n",
    "capture_data=cv2.VideoCapture(0)\n",
    "while (capture_data.isOpened()):\n",
    "    ret,frame=capture_data.read()\n",
    "    frame=cv2.cvtColor(frame,cv2.COLOR_BGR2GRAY)\n",
    "    cv2.imshow('frame',frame)\n",
    "    key_value=cv2.waitKey(1)\n",
    "    if key_value and key_value==ord('q'):\n",
    "        # Releasing the Live Stream and Destroying the Stream Window.....................\n",
    "        capture_data.release()\n",
    "        cv2.destroyAllWindows()\n",
    "        break"
   ]
  },
  {
   "cell_type": "code",
   "execution_count": null,
   "metadata": {
    "collapsed": false,
    "pycharm": {
     "name": "#%%\n"
    }
   },
   "outputs": [],
   "source": []
  },
  {
   "cell_type": "code",
   "execution_count": null,
   "metadata": {
    "collapsed": false,
    "pycharm": {
     "name": "#%%\n"
    }
   },
   "outputs": [],
   "source": []
  },
  {
   "cell_type": "code",
   "execution_count": null,
   "metadata": {
    "collapsed": false,
    "pycharm": {
     "name": "#%%\n"
    }
   },
   "outputs": [
    {
     "ename": "TypeError",
     "evalue": "imshow() missing 1 required positional argument: 'X'",
     "output_type": "error",
     "traceback": [
      "\u001b[1;31m---------------------------------------------------------------------------\u001b[0m",
      "\u001b[1;31mTypeError\u001b[0m                                 Traceback (most recent call last)",
      "\u001b[1;32m<ipython-input-8-e47d0887252f>\u001b[0m in \u001b[0;36m<module>\u001b[1;34m\u001b[0m\n\u001b[0;32m      1\u001b[0m \u001b[1;31m# Displaying Images using Matplotlib.....\u001b[0m\u001b[1;33m\u001b[0m\u001b[1;33m\u001b[0m\u001b[1;33m\u001b[0m\u001b[0m\n\u001b[0;32m      2\u001b[0m \u001b[1;32mfor\u001b[0m \u001b[0mi\u001b[0m \u001b[1;32min\u001b[0m \u001b[0mimages\u001b[0m\u001b[1;33m:\u001b[0m\u001b[1;33m\u001b[0m\u001b[1;33m\u001b[0m\u001b[0m\n\u001b[1;32m----> 3\u001b[1;33m     \u001b[0mplt\u001b[0m\u001b[1;33m.\u001b[0m\u001b[0mimshow\u001b[0m\u001b[1;33m(\u001b[0m\u001b[1;33m)\u001b[0m\u001b[1;33m\u001b[0m\u001b[1;33m\u001b[0m\u001b[0m\n\u001b[0m",
      "\u001b[1;31mTypeError\u001b[0m: imshow() missing 1 required positional argument: 'X'"
     ]
    }
   ],
   "source": [
    "# Displaying Images using Matplotlib.....\n",
    "for i in images:\n",
    "    plt.imshow()"
   ]
  }
 ],
 "metadata": {
  "kernelspec": {
   "display_name": "base",
   "language": "python",
   "name": "python3"
  },
  "language_info": {
   "codemirror_mode": {
    "name": "ipython",
    "version": 3
   },
   "file_extension": ".py",
   "mimetype": "text/x-python",
   "name": "python",
   "nbconvert_exporter": "python",
   "pygments_lexer": "ipython3",
   "version": "3.8.15"
  },
  "vscode": {
   "interpreter": {
    "hash": "b16ced64710a4d8c99ae3dbf0c90823ef6abb92a4bc0ca6e13965003c1eb0fcc"
   }
  }
 },
 "nbformat": 4,
 "nbformat_minor": 1
}
