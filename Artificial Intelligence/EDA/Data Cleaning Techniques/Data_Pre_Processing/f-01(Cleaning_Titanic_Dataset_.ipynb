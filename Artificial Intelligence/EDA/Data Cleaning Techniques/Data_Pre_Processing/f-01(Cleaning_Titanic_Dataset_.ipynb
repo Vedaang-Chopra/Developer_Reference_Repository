{
 "cells": [
  {
   "cell_type": "code",
   "execution_count": null,
   "metadata": {},
   "outputs": [],
   "source": [
    "import numpy as np\n",
    "import pandas as pd"
   ]
  },
  {
   "cell_type": "code",
   "execution_count": null,
   "metadata": {},
   "outputs": [],
   "source": [
    "def change_sex(str):\n",
    "    if str=='male':\n",
    "        return 0\n",
    "    else:\n",
    "        return 1"
   ]
  },
  {
   "cell_type": "code",
   "execution_count": null,
   "metadata": {},
   "outputs": [],
   "source": [
    "def change_embarked(str):\n",
    "    if str=='C':\n",
    "        return 0\n",
    "    elif str=='Q':\n",
    "        return 1\n",
    "    else :\n",
    "        return 2"
   ]
  },
  {
   "cell_type": "code",
   "execution_count": null,
   "metadata": {},
   "outputs": [],
   "source": [
    "# PATH_TO_DATASET=os.path.join()\n",
    "x_o=pd.read_csv('D:\\Artificial Intelligence\\Code Repository\\Machine_Learning_Code_Repository\\All_External_CSV_Datasets_Used\\\\titanic_train.csv')"
   ]
  },
  {
   "cell_type": "code",
   "execution_count": null,
   "metadata": {},
   "outputs": [],
   "source": [
    "abc=(x_o.describe())\n",
    "abc_fixed = abc.reset_index().replace(\n",
    "    {'25%': '25_percent', '50%': '50_percent', '75%': '75_percent'}).set_index('index')\n",
    "x1=x_o.copy()\n",
    "# x1=x[:,0:11]\n",
    "# y1=x[:,11]\n",
    "del x1['Name']\n",
    "del x1['Ticket']\n",
    "del x1['Cabin']"
   ]
  },
  {
   "cell_type": "code",
   "execution_count": null,
   "metadata": {},
   "outputs": [],
   "source": [
    "x1['Gender']=x1.Sex.apply(change_sex)\n",
    "del x1['Sex']"
   ]
  },
  {
   "cell_type": "code",
   "execution_count": null,
   "metadata": {},
   "outputs": [],
   "source": [
    "x1.Age.fillna(x1.Age.mean(),inplace=True)\n",
    "del x1['Fare']"
   ]
  },
  {
   "cell_type": "code",
   "execution_count": null,
   "metadata": {},
   "outputs": [],
   "source": [
    "x1['New_Embarked']=x1.Embarked.apply(change_embarked)\n",
    "del x1['Embarked']"
   ]
  },
  {
   "cell_type": "code",
   "execution_count": null,
   "metadata": {},
   "outputs": [],
   "source": [
    "print(x1)"
   ]
  }
 ],
 "metadata": {
  "language_info": {
   "name": "python"
  },
  "orig_nbformat": 4
 },
 "nbformat": 4,
 "nbformat_minor": 2
}
